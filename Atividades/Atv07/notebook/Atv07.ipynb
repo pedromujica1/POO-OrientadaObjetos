{
 "cells": [
  {
   "attachments": {},
   "cell_type": "markdown",
   "metadata": {},
   "source": [
    "# Atv07"
   ]
  },
  {
   "cell_type": "code",
   "execution_count": 2,
   "metadata": {
    "vscode": {
     "languageId": "java"
    }
   },
   "outputs": [
    {
     "name": "stdout",
     "output_type": "stream",
     "text": [
      "Array original: [1.0, 2.0, 3.0, 4.0, 5.0]\n",
      "Array em ordem decrescente: [5.0, 4.0, 3.0, 2.0, 1.0]\n",
      "MÉDIA ARITMÉTICA DA TURMA: 3.0\n"
     ]
    }
   ],
   "source": [
    "//Classe NotasArray\n",
    "/* IFPR - Campus Cascavel\n",
    "Disciplina: Programação Orientada à Objetos\n",
    "Professor: Nelson Bellincanta */ \n",
    "\n",
    "import java.util.Arrays; //Importando biblioteca das Arrays\n",
    "\n",
    "import javax.swing.JOptionPane; //Importando a classe do JOptionPane\n",
    "\n",
    "\n",
    "\n",
    "//Declaração Array tipo Double\n",
    "Float[] notas;\n",
    "\n",
    "//Declaração da array com tamanho de 5 posições\n",
    "notas = new Float[5];\n",
    "\n",
    "//Declaração da String para receber as notas\n",
    "String str_input; \n",
    "\n",
    "//Declaração da variável sumNotas para capturar a soma das notas no loop for\n",
    "Float sumNotas=0f;\n",
    "\n",
    "//declaração da variável arrayOriginal para mostrar no JoptionPane\n",
    "String arrayOriginal=\"\";\n",
    "//declaração da variável arrayNova para mostrar no JoptionPane\n",
    "String arrayNova=\"\";\n",
    "\n",
    "\n",
    "//Variável para marcar as ocorrências do while loop\n",
    "int contador=0;\n",
    "while (contador <=4) {//While loop para executar 5 vezes o ShowInputDialog\n",
    "             \n",
    "    str_input = JOptionPane.showInputDialog(\"Insira a nota: \");//Comando para receber input\n",
    "    notas[contador] = Float.parseFloat(str_input);//Coloca as notas na posição de acordo com a variavel contador que vai alterando de acordo com cada iteração do loop\n",
    "    //ex: notas[0] = valor do primeiro float digitado\n",
    "    //notas[1] = valor do segundo float digitado\n",
    "    //Salva conteúdo da Array na string arrayOriginal\n",
    "    arrayOriginal+=notas[contador] + \", \";\n",
    "    contador++; //Realiza o incremento da variável contador\n",
    "            \n",
    "    }//Fim do loop while\n",
    "\n",
    "    ///Imprime as notas em formato de array\n",
    "    System.out.println(\"Array original: \" + Arrays.asList(notas));\n",
    "\n",
    "    //Loop for para transformar elementdos da array em números negativos\n",
    "    for(int i=0;i<notas.length;i++) {//Início do loop for\n",
    "        notas[i]=-notas[i];//Transforma elementos da array notas em valores negativos\n",
    "\n",
    "    }//Fim do loop for\n",
    "        \n",
    "    Arrays.sort(notas); //Metódo para ordenar os números negativos da array\n",
    "\n",
    "    //Loop for para transformar os números negativos array em positivos\n",
    "    for(int i=0;i<notas.length;i++) {//Início do loop for\n",
    "        \n",
    "        notas[i]=notas[i]*-1; //Multiplica elementos da array por -1 para gerar os números positivos originais \n",
    "        sumNotas+=notas[i];//Recebe o valor da soma dos elementos da array\n",
    "        //Salva conteúdo da Array na string arrayNova\n",
    "        arrayNova+=notas[i] + \", \";\n",
    "\n",
    "    }//Fim do loop for\n",
    "\n",
    "        \n",
    "//Imprime na tela do terminal o resultado\n",
    "System.out.println(\"Array em ordem decrescente: \" + Arrays.asList(notas));\n",
    "//Imprime na tela do terminala média\n",
    "System.out.println(\"MÉDIA ARITMÉTICA DA TURMA: \"+sumNotas/5);\n",
    "\n",
    "//Mostra no JoptionPane os resultados obtidos\n",
    "JOptionPane.showMessageDialog(null,\"Array original: \"+arrayOriginal + \"\\n\" +\"Array decrescente: \"+arrayNova+ \"\\n\"+ \"Média da turma: \"+sumNotas/5+ \"\\n\");\n",
    "       \n",
    "        \n",
    "        \n",
    "\n",
    "\n"
   ]
  },
  {
   "cell_type": "code",
   "execution_count": null,
   "metadata": {
    "vscode": {
     "languageId": "java"
    }
   },
   "outputs": [],
   "source": []
  }
 ],
 "metadata": {
  "kernelspec": {
   "display_name": "Java",
   "language": "java",
   "name": "java"
  },
  "language_info": {
   "codemirror_mode": "java",
   "file_extension": ".jshell",
   "mimetype": "text/x-java-source",
   "name": "Java",
   "pygments_lexer": "java",
   "version": "11.0.18+10-post-Ubuntu-0ubuntu122.04"
  },
  "orig_nbformat": 4
 },
 "nbformat": 4,
 "nbformat_minor": 2
}
